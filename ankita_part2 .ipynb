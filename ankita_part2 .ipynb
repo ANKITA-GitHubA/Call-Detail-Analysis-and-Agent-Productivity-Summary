{
 "cells": [
  {
   "cell_type": "markdown",
   "id": "b6f74016",
   "metadata": {},
   "source": [
    "## EXPLORATORY DATA ANALYSIS"
   ]
  },
  {
   "cell_type": "markdown",
   "id": "ef8e76e8",
   "metadata": {},
   "source": [
    "#inserting python libraries"
   ]
  },
  {
   "cell_type": "code",
   "execution_count": 69,
   "id": "adcd1f08",
   "metadata": {},
   "outputs": [],
   "source": [
    "import numpy as np\n",
    "import pandas as pd\n",
    "import matplotlib.pyplot as plt\n",
    "import seaborn as sns"
   ]
  },
  {
   "cell_type": "markdown",
   "id": "803cffa1",
   "metadata": {},
   "source": [
    "#Introducing the dataset"
   ]
  },
  {
   "cell_type": "code",
   "execution_count": 70,
   "id": "064b518b",
   "metadata": {},
   "outputs": [
    {
     "name": "stderr",
     "output_type": "stream",
     "text": [
      "C:\\Users\\LENOVO\\AppData\\Local\\Temp\\ipykernel_15132\\4211220078.py:1: DtypeWarning: Columns (2) have mixed types. Specify dtype option on import or set low_memory=False.\n",
      "  df = pd.read_csv(\"CALL_Details - CALL_Details.csv\")\n"
     ]
    }
   ],
   "source": [
    "df = pd.read_csv(\"CALL_Details - CALL_Details.csv\")"
   ]
  },
  {
   "cell_type": "markdown",
   "id": "349989f8",
   "metadata": {},
   "source": [
    " Data Reading and Descriptive Statistics"
   ]
  },
  {
   "cell_type": "code",
   "execution_count": 71,
   "id": "4d8e1ef6",
   "metadata": {},
   "outputs": [
    {
     "data": {
      "text/html": [
       "<div>\n",
       "<style scoped>\n",
       "    .dataframe tbody tr th:only-of-type {\n",
       "        vertical-align: middle;\n",
       "    }\n",
       "\n",
       "    .dataframe tbody tr th {\n",
       "        vertical-align: top;\n",
       "    }\n",
       "\n",
       "    .dataframe thead th {\n",
       "        text-align: right;\n",
       "    }\n",
       "</style>\n",
       "<table border=\"1\" class=\"dataframe\">\n",
       "  <thead>\n",
       "    <tr style=\"text-align: right;\">\n",
       "      <th></th>\n",
       "      <th>Call Time</th>\n",
       "      <th>Campaign Name</th>\n",
       "      <th>Phone</th>\n",
       "      <th>Call Type</th>\n",
       "      <th>System Disposition</th>\n",
       "      <th>Customer Talk Time</th>\n",
       "      <th>User ID</th>\n",
       "      <th>User Name</th>\n",
       "      <th>Disposition Code</th>\n",
       "      <th>Disposition Class</th>\n",
       "    </tr>\n",
       "  </thead>\n",
       "  <tbody>\n",
       "    <tr>\n",
       "      <th>0</th>\n",
       "      <td>13-04-2022 09:05</td>\n",
       "      <td>L&amp;T NEW</td>\n",
       "      <td>723</td>\n",
       "      <td>outbound.manual.dial</td>\n",
       "      <td>ATTEMPT_FAILED</td>\n",
       "      <td>00:00:00</td>\n",
       "      <td>Jaswinderk</td>\n",
       "      <td>Jaswinder Kaur</td>\n",
       "      <td>NaN</td>\n",
       "      <td>NaN</td>\n",
       "    </tr>\n",
       "    <tr>\n",
       "      <th>1</th>\n",
       "      <td>13-04-2022 09:06</td>\n",
       "      <td>L&amp;T NEW</td>\n",
       "      <td>723</td>\n",
       "      <td>outbound.manual.dial</td>\n",
       "      <td>PROVIDER_TEMP_FAILURE</td>\n",
       "      <td>00:00:00</td>\n",
       "      <td>Jaswinderk</td>\n",
       "      <td>Jaswinder Kaur</td>\n",
       "      <td>Abrupt disconnection</td>\n",
       "      <td>telecom.issues</td>\n",
       "    </tr>\n",
       "    <tr>\n",
       "      <th>2</th>\n",
       "      <td>13-04-2022 09:08</td>\n",
       "      <td>L&amp;T NEW</td>\n",
       "      <td>8878327032</td>\n",
       "      <td>outbound.callback.dial</td>\n",
       "      <td>ATTEMPT_FAILED</td>\n",
       "      <td>00:00:00</td>\n",
       "      <td>NaN</td>\n",
       "      <td>NaN</td>\n",
       "      <td>NaN</td>\n",
       "      <td>NaN</td>\n",
       "    </tr>\n",
       "    <tr>\n",
       "      <th>3</th>\n",
       "      <td>13-04-2022 09:08</td>\n",
       "      <td>L&amp;T NEW</td>\n",
       "      <td>723</td>\n",
       "      <td>outbound.manual.dial</td>\n",
       "      <td>ATTEMPT_FAILED</td>\n",
       "      <td>00:00:00</td>\n",
       "      <td>Jaswinderk</td>\n",
       "      <td>Jaswinder Kaur</td>\n",
       "      <td>NaN</td>\n",
       "      <td>NaN</td>\n",
       "    </tr>\n",
       "    <tr>\n",
       "      <th>4</th>\n",
       "      <td>13-04-2022 09:10</td>\n",
       "      <td>L&amp;T NEW</td>\n",
       "      <td>8778764008</td>\n",
       "      <td>outbound.callback.dial</td>\n",
       "      <td>PROVIDER_TEMP_FAILURE</td>\n",
       "      <td>00:00:00</td>\n",
       "      <td>Jaswinderk</td>\n",
       "      <td>Jaswinder Kaur</td>\n",
       "      <td>wrap.timeout</td>\n",
       "      <td>campaign.system.disposition</td>\n",
       "    </tr>\n",
       "  </tbody>\n",
       "</table>\n",
       "</div>"
      ],
      "text/plain": [
       "          Call Time Campaign Name       Phone               Call Type  \\\n",
       "0  13-04-2022 09:05       L&T NEW         723    outbound.manual.dial   \n",
       "1  13-04-2022 09:06       L&T NEW         723    outbound.manual.dial   \n",
       "2  13-04-2022 09:08       L&T NEW  8878327032  outbound.callback.dial   \n",
       "3  13-04-2022 09:08       L&T NEW         723    outbound.manual.dial   \n",
       "4  13-04-2022 09:10       L&T NEW  8778764008  outbound.callback.dial   \n",
       "\n",
       "      System Disposition Customer Talk Time     User ID       User Name  \\\n",
       "0         ATTEMPT_FAILED           00:00:00  Jaswinderk  Jaswinder Kaur   \n",
       "1  PROVIDER_TEMP_FAILURE           00:00:00  Jaswinderk  Jaswinder Kaur   \n",
       "2         ATTEMPT_FAILED           00:00:00         NaN             NaN   \n",
       "3         ATTEMPT_FAILED           00:00:00  Jaswinderk  Jaswinder Kaur   \n",
       "4  PROVIDER_TEMP_FAILURE           00:00:00  Jaswinderk  Jaswinder Kaur   \n",
       "\n",
       "       Disposition Code            Disposition Class  \n",
       "0                   NaN                          NaN  \n",
       "1  Abrupt disconnection               telecom.issues  \n",
       "2                   NaN                          NaN  \n",
       "3                   NaN                          NaN  \n",
       "4          wrap.timeout  campaign.system.disposition  "
      ]
     },
     "execution_count": 71,
     "metadata": {},
     "output_type": "execute_result"
    }
   ],
   "source": [
    "df.head()"
   ]
  },
  {
   "cell_type": "code",
   "execution_count": 7,
   "id": "3388cf99",
   "metadata": {},
   "outputs": [
    {
     "name": "stdout",
     "output_type": "stream",
     "text": [
      "<class 'pandas.core.frame.DataFrame'>\n",
      "RangeIndex: 112258 entries, 0 to 112257\n",
      "Data columns (total 10 columns):\n",
      " #   Column              Non-Null Count   Dtype \n",
      "---  ------              --------------   ----- \n",
      " 0   Call Time           112258 non-null  object\n",
      " 1   Campaign Name       112258 non-null  object\n",
      " 2   Phone               112114 non-null  object\n",
      " 3   Call Type           112258 non-null  object\n",
      " 4   System Disposition  112258 non-null  object\n",
      " 5   Customer Talk Time  112258 non-null  object\n",
      " 6   User ID             12927 non-null   object\n",
      " 7   User Name           12927 non-null   object\n",
      " 8   Disposition Code    12217 non-null   object\n",
      " 9   Disposition Class   12217 non-null   object\n",
      "dtypes: object(10)\n",
      "memory usage: 8.6+ MB\n"
     ]
    }
   ],
   "source": [
    "df.info()"
   ]
  },
  {
   "cell_type": "code",
   "execution_count": 68,
   "id": "05c04ca8",
   "metadata": {},
   "outputs": [
    {
     "data": {
      "text/plain": [
       "(112258, 10)"
      ]
     },
     "execution_count": 68,
     "metadata": {},
     "output_type": "execute_result"
    }
   ],
   "source": [
    "df.shape"
   ]
  },
  {
   "cell_type": "code",
   "execution_count": 8,
   "id": "8ef5b08b",
   "metadata": {},
   "outputs": [
    {
     "data": {
      "text/html": [
       "<div>\n",
       "<style scoped>\n",
       "    .dataframe tbody tr th:only-of-type {\n",
       "        vertical-align: middle;\n",
       "    }\n",
       "\n",
       "    .dataframe tbody tr th {\n",
       "        vertical-align: top;\n",
       "    }\n",
       "\n",
       "    .dataframe thead th {\n",
       "        text-align: right;\n",
       "    }\n",
       "</style>\n",
       "<table border=\"1\" class=\"dataframe\">\n",
       "  <thead>\n",
       "    <tr style=\"text-align: right;\">\n",
       "      <th></th>\n",
       "      <th>Call Time</th>\n",
       "      <th>Campaign Name</th>\n",
       "      <th>Phone</th>\n",
       "      <th>Call Type</th>\n",
       "      <th>System Disposition</th>\n",
       "      <th>Customer Talk Time</th>\n",
       "      <th>User ID</th>\n",
       "      <th>User Name</th>\n",
       "      <th>Disposition Code</th>\n",
       "      <th>Disposition Class</th>\n",
       "    </tr>\n",
       "  </thead>\n",
       "  <tbody>\n",
       "    <tr>\n",
       "      <th>count</th>\n",
       "      <td>112258</td>\n",
       "      <td>112258</td>\n",
       "      <td>112114</td>\n",
       "      <td>112258</td>\n",
       "      <td>112258</td>\n",
       "      <td>112258</td>\n",
       "      <td>12927</td>\n",
       "      <td>12927</td>\n",
       "      <td>12217</td>\n",
       "      <td>12217</td>\n",
       "    </tr>\n",
       "    <tr>\n",
       "      <th>unique</th>\n",
       "      <td>17012</td>\n",
       "      <td>1</td>\n",
       "      <td>6729</td>\n",
       "      <td>4</td>\n",
       "      <td>10</td>\n",
       "      <td>346</td>\n",
       "      <td>4</td>\n",
       "      <td>4</td>\n",
       "      <td>39</td>\n",
       "      <td>17</td>\n",
       "    </tr>\n",
       "    <tr>\n",
       "      <th>top</th>\n",
       "      <td>21-04-2022 11:02</td>\n",
       "      <td>L&amp;T NEW</td>\n",
       "      <td>8638604237</td>\n",
       "      <td>outbound.auto.dial</td>\n",
       "      <td>PROVIDER_TEMP_FAILURE</td>\n",
       "      <td>00:00:00</td>\n",
       "      <td>Dikshak</td>\n",
       "      <td>Diksha kushwaha</td>\n",
       "      <td>No_Response</td>\n",
       "      <td>Non_Contactable</td>\n",
       "    </tr>\n",
       "    <tr>\n",
       "      <th>freq</th>\n",
       "      <td>321</td>\n",
       "      <td>112258</td>\n",
       "      <td>2140</td>\n",
       "      <td>70621</td>\n",
       "      <td>40093</td>\n",
       "      <td>104488</td>\n",
       "      <td>4462</td>\n",
       "      <td>4462</td>\n",
       "      <td>2940</td>\n",
       "      <td>3001</td>\n",
       "    </tr>\n",
       "  </tbody>\n",
       "</table>\n",
       "</div>"
      ],
      "text/plain": [
       "               Call Time Campaign Name       Phone           Call Type  \\\n",
       "count             112258        112258      112114              112258   \n",
       "unique             17012             1        6729                   4   \n",
       "top     21-04-2022 11:02       L&T NEW  8638604237  outbound.auto.dial   \n",
       "freq                 321        112258        2140               70621   \n",
       "\n",
       "           System Disposition Customer Talk Time  User ID        User Name  \\\n",
       "count                  112258             112258    12927            12927   \n",
       "unique                     10                346        4                4   \n",
       "top     PROVIDER_TEMP_FAILURE           00:00:00  Dikshak  Diksha kushwaha   \n",
       "freq                    40093             104488     4462             4462   \n",
       "\n",
       "       Disposition Code Disposition Class  \n",
       "count             12217             12217  \n",
       "unique               39                17  \n",
       "top         No_Response   Non_Contactable  \n",
       "freq               2940              3001  "
      ]
     },
     "execution_count": 8,
     "metadata": {},
     "output_type": "execute_result"
    }
   ],
   "source": [
    "df.describe(include = 'all')"
   ]
  },
  {
   "cell_type": "code",
   "execution_count": 21,
   "id": "dc2cb121",
   "metadata": {
    "collapsed": true
   },
   "outputs": [
    {
     "name": "stderr",
     "output_type": "stream",
     "text": [
      "C:\\Users\\LENOVO\\AppData\\Local\\Temp\\ipykernel_15132\\3381196055.py:1: DtypeWarning: Columns (2) have mixed types. Specify dtype option on import or set low_memory=False.\n",
      "  df = pd.read_csv(\"CALL_Details - CALL_Details.csv\")\n"
     ]
    }
   ],
   "source": [
    "df = pd.read_csv(\"CALL_Details - CALL_Details.csv\")\n",
    "\n"
   ]
  },
  {
   "cell_type": "markdown",
   "id": "af06377d",
   "metadata": {},
   "source": [
    "calculating the total null values in each column"
   ]
  },
  {
   "cell_type": "code",
   "execution_count": 22,
   "id": "73f00605",
   "metadata": {},
   "outputs": [
    {
     "data": {
      "text/plain": [
       "Call Time                  0\n",
       "Campaign Name              0\n",
       "Phone                    144\n",
       "Call Type                  0\n",
       "System Disposition         0\n",
       "Customer Talk Time         0\n",
       "User ID                99331\n",
       "User Name              99331\n",
       "Disposition Code      100041\n",
       "Disposition Class     100041\n",
       "dtype: int64"
      ]
     },
     "execution_count": 22,
     "metadata": {},
     "output_type": "execute_result"
    }
   ],
   "source": [
    "df.isnull().sum()"
   ]
  },
  {
   "cell_type": "code",
   "execution_count": null,
   "id": "f94fb220",
   "metadata": {},
   "outputs": [],
   "source": []
  },
  {
   "cell_type": "markdown",
   "id": "e261a3c1",
   "metadata": {},
   "source": [
    "Data Cleaning"
   ]
  },
  {
   "cell_type": "markdown",
   "id": "b0f034a4",
   "metadata": {},
   "source": [
    "#To find the impact of users(agents), we will remove the rows with null values in User Name"
   ]
  },
  {
   "cell_type": "code",
   "execution_count": 27,
   "id": "05364e47",
   "metadata": {},
   "outputs": [],
   "source": [
    "df.dropna(subset = ['User Name'], inplace = True)\n"
   ]
  },
  {
   "cell_type": "code",
   "execution_count": 31,
   "id": "7bfbff18",
   "metadata": {},
   "outputs": [
    {
     "data": {
      "text/plain": [
       "Call Time             object\n",
       "Campaign Name         object\n",
       "Phone                 object\n",
       "Call Type             object\n",
       "System Disposition    object\n",
       "Customer Talk Time    object\n",
       "User ID               object\n",
       "User Name             object\n",
       "Disposition Code      object\n",
       "Disposition Class     object\n",
       "dtype: object"
      ]
     },
     "execution_count": 31,
     "metadata": {},
     "output_type": "execute_result"
    }
   ],
   "source": [
    "\n",
    "df.dtypes"
   ]
  },
  {
   "cell_type": "code",
   "execution_count": 35,
   "id": "a24d05ea",
   "metadata": {},
   "outputs": [
    {
     "data": {
      "text/plain": [
       "array([nan, 'telecom.issues', 'campaign.system.disposition',\n",
       "       'Repeated CM NI', 'wrong_number', 'Non_Contactable', 'Sale',\n",
       "       'schedule.callback', 'Not_Interested', 'user.forced.logged.off',\n",
       "       'INTERESTED', 'campaign.media.exclusion', 'short hangup',\n",
       "       'Not_Eligible', 'Language_Barrier', 'application.disposed',\n",
       "       'Wrong number', 'Not Contactable'], dtype=object)"
      ]
     },
     "execution_count": 35,
     "metadata": {},
     "output_type": "execute_result"
    }
   ],
   "source": [
    "df['Disposition Class'].unique()\n",
    "\n"
   ]
  },
  {
   "cell_type": "code",
   "execution_count": 36,
   "id": "027ebee6",
   "metadata": {},
   "outputs": [
    {
     "data": {
      "text/plain": [
       "array(['Jaswinder Kaur', nan, 'Renu rathore', 'Diksha kushwaha',\n",
       "       'demouser'], dtype=object)"
      ]
     },
     "execution_count": 36,
     "metadata": {},
     "output_type": "execute_result"
    }
   ],
   "source": [
    "df['User Name'].unique()"
   ]
  },
  {
   "cell_type": "markdown",
   "id": "94705a2e",
   "metadata": {},
   "source": [
    "# Calculating the interested and not interested class"
   ]
  },
  {
   "cell_type": "code",
   "execution_count": 97,
   "id": "9b140aa6",
   "metadata": {},
   "outputs": [
    {
     "name": "stderr",
     "output_type": "stream",
     "text": [
      "C:\\Users\\LENOVO\\AppData\\Local\\Temp\\ipykernel_15132\\1101214549.py:1: DtypeWarning: Columns (2) have mixed types. Specify dtype option on import or set low_memory=False.\n",
      "  df = pd.read_csv(\"CALL_Details - CALL_Details.csv\")\n"
     ]
    },
    {
     "data": {
      "text/html": [
       "<div>\n",
       "<style scoped>\n",
       "    .dataframe tbody tr th:only-of-type {\n",
       "        vertical-align: middle;\n",
       "    }\n",
       "\n",
       "    .dataframe tbody tr th {\n",
       "        vertical-align: top;\n",
       "    }\n",
       "\n",
       "    .dataframe thead th {\n",
       "        text-align: right;\n",
       "    }\n",
       "</style>\n",
       "<table border=\"1\" class=\"dataframe\">\n",
       "  <thead>\n",
       "    <tr style=\"text-align: right;\">\n",
       "      <th></th>\n",
       "      <th>Total Interested</th>\n",
       "    </tr>\n",
       "    <tr>\n",
       "      <th>User Name</th>\n",
       "      <th></th>\n",
       "    </tr>\n",
       "  </thead>\n",
       "  <tbody>\n",
       "    <tr>\n",
       "      <th>Diksha kushwaha</th>\n",
       "      <td>200</td>\n",
       "    </tr>\n",
       "    <tr>\n",
       "      <th>Jaswinder Kaur</th>\n",
       "      <td>16</td>\n",
       "    </tr>\n",
       "    <tr>\n",
       "      <th>Renu rathore</th>\n",
       "      <td>100</td>\n",
       "    </tr>\n",
       "  </tbody>\n",
       "</table>\n",
       "</div>"
      ],
      "text/plain": [
       "                 Total Interested\n",
       "User Name                        \n",
       "Diksha kushwaha               200\n",
       "Jaswinder Kaur                 16\n",
       "Renu rathore                  100"
      ]
     },
     "execution_count": 97,
     "metadata": {},
     "output_type": "execute_result"
    }
   ],
   "source": [
    "df = pd.read_csv(\"CALL_Details - CALL_Details.csv\")\n",
    "X = df[df['Disposition Class'] == \"INTERESTED\"]\n",
    "Y = pd.pivot_table(X, values = \"Disposition Class\", index= \"User Name\", aggfunc = 'count')\n",
    "TotalInterested = Y.rename(columns  = {'Disposition Class' :'Total Interested'})\n",
    "TotalInterested\n"
   ]
  },
  {
   "cell_type": "code",
   "execution_count": 98,
   "id": "13075413",
   "metadata": {},
   "outputs": [
    {
     "data": {
      "text/html": [
       "<div>\n",
       "<style scoped>\n",
       "    .dataframe tbody tr th:only-of-type {\n",
       "        vertical-align: middle;\n",
       "    }\n",
       "\n",
       "    .dataframe tbody tr th {\n",
       "        vertical-align: top;\n",
       "    }\n",
       "\n",
       "    .dataframe thead th {\n",
       "        text-align: right;\n",
       "    }\n",
       "</style>\n",
       "<table border=\"1\" class=\"dataframe\">\n",
       "  <thead>\n",
       "    <tr style=\"text-align: right;\">\n",
       "      <th></th>\n",
       "      <th>Total Not Interested</th>\n",
       "    </tr>\n",
       "    <tr>\n",
       "      <th>User Name</th>\n",
       "      <th></th>\n",
       "    </tr>\n",
       "  </thead>\n",
       "  <tbody>\n",
       "    <tr>\n",
       "      <th>Diksha kushwaha</th>\n",
       "      <td>963</td>\n",
       "    </tr>\n",
       "    <tr>\n",
       "      <th>Jaswinder Kaur</th>\n",
       "      <td>486</td>\n",
       "    </tr>\n",
       "    <tr>\n",
       "      <th>Renu rathore</th>\n",
       "      <td>646</td>\n",
       "    </tr>\n",
       "  </tbody>\n",
       "</table>\n",
       "</div>"
      ],
      "text/plain": [
       "                 Total Not Interested\n",
       "User Name                            \n",
       "Diksha kushwaha                   963\n",
       "Jaswinder Kaur                    486\n",
       "Renu rathore                      646"
      ]
     },
     "execution_count": 98,
     "metadata": {},
     "output_type": "execute_result"
    }
   ],
   "source": [
    "X  = df[df['Disposition Class'] == \"Not_Interested\"]\n",
    "Y= pd.pivot_table(X, values = \"Disposition Class\",index = \"User Name\", aggfunc = 'count')\n",
    "NotInterested = Y.rename(columns = {'Disposition Class' : 'Total Not Interested'})\n",
    "NotInterested"
   ]
  },
  {
   "cell_type": "code",
   "execution_count": 100,
   "id": "2ec5328f",
   "metadata": {},
   "outputs": [
    {
     "data": {
      "text/html": [
       "<div>\n",
       "<style scoped>\n",
       "    .dataframe tbody tr th:only-of-type {\n",
       "        vertical-align: middle;\n",
       "    }\n",
       "\n",
       "    .dataframe tbody tr th {\n",
       "        vertical-align: top;\n",
       "    }\n",
       "\n",
       "    .dataframe thead th {\n",
       "        text-align: right;\n",
       "    }\n",
       "</style>\n",
       "<table border=\"1\" class=\"dataframe\">\n",
       "  <thead>\n",
       "    <tr style=\"text-align: right;\">\n",
       "      <th></th>\n",
       "      <th>Total Interested</th>\n",
       "      <th>Total Not Interested</th>\n",
       "    </tr>\n",
       "    <tr>\n",
       "      <th>User Name</th>\n",
       "      <th></th>\n",
       "      <th></th>\n",
       "    </tr>\n",
       "  </thead>\n",
       "  <tbody>\n",
       "    <tr>\n",
       "      <th>Diksha kushwaha</th>\n",
       "      <td>200</td>\n",
       "      <td>963</td>\n",
       "    </tr>\n",
       "    <tr>\n",
       "      <th>Jaswinder Kaur</th>\n",
       "      <td>16</td>\n",
       "      <td>486</td>\n",
       "    </tr>\n",
       "    <tr>\n",
       "      <th>Renu rathore</th>\n",
       "      <td>100</td>\n",
       "      <td>646</td>\n",
       "    </tr>\n",
       "  </tbody>\n",
       "</table>\n",
       "</div>"
      ],
      "text/plain": [
       "                 Total Interested  Total Not Interested\n",
       "User Name                                              \n",
       "Diksha kushwaha               200                   963\n",
       "Jaswinder Kaur                 16                   486\n",
       "Renu rathore                  100                   646"
      ]
     },
     "execution_count": 100,
     "metadata": {},
     "output_type": "execute_result"
    }
   ],
   "source": [
    "IandNI = pd.concat([TotalInterested, NotInterested],axis = 1)\n"
   ]
  },
  {
   "cell_type": "code",
   "execution_count": 111,
   "id": "75549382",
   "metadata": {},
   "outputs": [
    {
     "data": {
      "text/html": [
       "<div>\n",
       "<style scoped>\n",
       "    .dataframe tbody tr th:only-of-type {\n",
       "        vertical-align: middle;\n",
       "    }\n",
       "\n",
       "    .dataframe tbody tr th {\n",
       "        vertical-align: top;\n",
       "    }\n",
       "\n",
       "    .dataframe thead th {\n",
       "        text-align: right;\n",
       "    }\n",
       "</style>\n",
       "<table border=\"1\" class=\"dataframe\">\n",
       "  <thead>\n",
       "    <tr style=\"text-align: right;\">\n",
       "      <th></th>\n",
       "      <th>Total Interested</th>\n",
       "      <th>Total Not Interested</th>\n",
       "      <th>Ratio</th>\n",
       "    </tr>\n",
       "    <tr>\n",
       "      <th>User Name</th>\n",
       "      <th></th>\n",
       "      <th></th>\n",
       "      <th></th>\n",
       "    </tr>\n",
       "  </thead>\n",
       "  <tbody>\n",
       "    <tr>\n",
       "      <th>Diksha kushwaha</th>\n",
       "      <td>200</td>\n",
       "      <td>963</td>\n",
       "      <td>0.207684</td>\n",
       "    </tr>\n",
       "    <tr>\n",
       "      <th>Renu rathore</th>\n",
       "      <td>100</td>\n",
       "      <td>646</td>\n",
       "      <td>0.154799</td>\n",
       "    </tr>\n",
       "    <tr>\n",
       "      <th>Jaswinder Kaur</th>\n",
       "      <td>16</td>\n",
       "      <td>486</td>\n",
       "      <td>0.032922</td>\n",
       "    </tr>\n",
       "  </tbody>\n",
       "</table>\n",
       "</div>"
      ],
      "text/plain": [
       "                 Total Interested  Total Not Interested     Ratio\n",
       "User Name                                                        \n",
       "Diksha kushwaha               200                   963  0.207684\n",
       "Renu rathore                  100                   646  0.154799\n",
       "Jaswinder Kaur                 16                   486  0.032922"
      ]
     },
     "execution_count": 111,
     "metadata": {},
     "output_type": "execute_result"
    }
   ],
   "source": [
    "IandNI['Ratio'] = IandNI['Total Interested']/IandNI['Total Not Interested']\n",
    "IandNI = IandNI.sort_values(\"Ratio\",ascending = False)\n",
    "IandNI"
   ]
  },
  {
   "cell_type": "markdown",
   "id": "5c4624da",
   "metadata": {},
   "source": [
    "****Ratio signifies the efficiency of each user."
   ]
  },
  {
   "cell_type": "code",
   "execution_count": 112,
   "id": "a049470b",
   "metadata": {},
   "outputs": [
    {
     "data": {
      "text/plain": [
       "<AxesSubplot:xlabel='User Name'>"
      ]
     },
     "execution_count": 112,
     "metadata": {},
     "output_type": "execute_result"
    },
    {
     "data": {
      "image/png": "[encoded data removed]",
      "text/plain": [
       "<Figure size 432x288 with 1 Axes>"
      ]
     },
     "metadata": {
      "needs_background": "light"
     },
     "output_type": "display_data"
    }
   ],
   "source": [
    "IandNI.plot(kind = \"bar\", y = \"Ratio\")"
   ]
  },
  {
   "cell_type": "markdown",
   "id": "23da39a2",
   "metadata": {},
   "source": [
    "# To do a deep understanding of why people are straightforward not interested - "
   ]
  },
  {
   "cell_type": "markdown",
   "id": "9f6f36ae",
   "metadata": {},
   "source": [
    "Calculating top 5 reasons for people being not interested"
   ]
  },
  {
   "cell_type": "code",
   "execution_count": 79,
   "id": "cce20986",
   "metadata": {},
   "outputs": [
    {
     "data": {
      "text/html": [
       "<div>\n",
       "<style scoped>\n",
       "    .dataframe tbody tr th:only-of-type {\n",
       "        vertical-align: middle;\n",
       "    }\n",
       "\n",
       "    .dataframe tbody tr th {\n",
       "        vertical-align: top;\n",
       "    }\n",
       "\n",
       "    .dataframe thead th {\n",
       "        text-align: right;\n",
       "    }\n",
       "</style>\n",
       "<table border=\"1\" class=\"dataframe\">\n",
       "  <thead>\n",
       "    <tr style=\"text-align: right;\">\n",
       "      <th></th>\n",
       "      <th>Total Not Interested</th>\n",
       "    </tr>\n",
       "    <tr>\n",
       "      <th>Disposition Code</th>\n",
       "      <th></th>\n",
       "    </tr>\n",
       "  </thead>\n",
       "  <tbody>\n",
       "    <tr>\n",
       "      <th>Not_looking_for_investment</th>\n",
       "      <td>959</td>\n",
       "    </tr>\n",
       "    <tr>\n",
       "      <th>NI - Hungup before presentation</th>\n",
       "      <td>447</td>\n",
       "    </tr>\n",
       "    <tr>\n",
       "      <th>NI_reason_not_shared</th>\n",
       "      <td>226</td>\n",
       "    </tr>\n",
       "    <tr>\n",
       "      <th>Already_purchased-booked</th>\n",
       "      <td>193</td>\n",
       "    </tr>\n",
       "    <tr>\n",
       "      <th>location not Fit</th>\n",
       "      <td>86</td>\n",
       "    </tr>\n",
       "  </tbody>\n",
       "</table>\n",
       "</div>"
      ],
      "text/plain": [
       "                                 Total Not Interested\n",
       "Disposition Code                                     \n",
       "Not_looking_for_investment                        959\n",
       "NI - Hungup before presentation                   447\n",
       "NI_reason_not_shared                              226\n",
       "Already_purchased-booked                          193\n",
       "location not Fit                                   86"
      ]
     },
     "execution_count": 79,
     "metadata": {},
     "output_type": "execute_result"
    }
   ],
   "source": [
    "X  = df[df['Disposition Class'] == \"Not_Interested\"]\n",
    "Y= pd.pivot_table(X, values = \"Disposition Class\",index = \"Disposition Code\", aggfunc = 'count')\n",
    "NotInterested = Y.rename(columns = {'Disposition Class' : 'Total Not Interested'})\n",
    "NotInterested =  NotInterested.sort_values('Total Not Interested', ascending = False) \n",
    "NotInterested.head()\n"
   ]
  },
  {
   "cell_type": "code",
   "execution_count": 90,
   "id": "45970ae0",
   "metadata": {},
   "outputs": [
    {
     "data": {
      "text/plain": [
       "<AxesSubplot:ylabel='Total Not Interested'>"
      ]
     },
     "execution_count": 90,
     "metadata": {},
     "output_type": "execute_result"
    },
    {
     "data": {
      "image/png": "[encoded data removed]",
      "text/plain": [
       "<Figure size 432x288 with 1 Axes>"
      ]
     },
     "metadata": {},
     "output_type": "display_data"
    }
   ],
   "source": [
    "NotInterested.head().plot(kind = \"pie\", y = 'Total Not Interested')"
   ]
  },
  {
   "cell_type": "markdown",
   "id": "f7111c06",
   "metadata": {},
   "source": [
    "Other reasons in the Disposition Code are either technical issues or do not show consumer behaviour directly."
   ]
  },
  {
   "cell_type": "code",
   "execution_count": null,
   "id": "9fd976ec",
   "metadata": {},
   "outputs": [],
   "source": []
  }
 ],
 "metadata": {
  "kernelspec": {
   "display_name": "Python 3 (ipykernel)",
   "language": "python",
   "name": "python3"
  },
  "language_info": {
   "codemirror_mode": {
    "name": "ipython",
    "version": 3
   },
   "file_extension": ".py",
   "mimetype": "text/x-python",
   "name": "python",
   "nbconvert_exporter": "python",
   "pygments_lexer": "ipython3",
   "version": "3.10.4"
  }
 },
 "nbformat": 4,
 "nbformat_minor": 5
}
